{
 "cells": [
  {
   "cell_type": "markdown",
   "metadata": {},
   "source": [
    "# Comparison with tSNE and UMAP\n",
    "This notebook applies the Sequencer, tSNE, and UMAP to a simple simulated dataset and compares the Sequencer result to the one-dimensional embedding by tSNE and UMAP. It can be divided into three main parts: <br>\n",
    "1. **Simulating the dataset:** I first start by simulating a dataset consisting of 1D objects with structured and random fluctuations on a range of scales. <br>\n",
    "2. **Figure of merit for the one-dimensional embedding by tSNE and UMAP:** in this part I show how we use the graph axis ratio to define a general figure of merit for the one-dimensional embedding of any Dimensionality Reduction algorithm. In particular, I show how this new figure of merit can be used to optimize the hyper-parameters of algorithms such as tSNE and UMAP. <br>\n",
    "3. **Comparison between the Sequencer and tSNE and UMAP:** here I apply the three algorithms to the simulated dataset and compare their one-dimensional embeddings. "
   ]
  },
  {
   "cell_type": "code",
   "execution_count": 1,
   "metadata": {},
   "outputs": [],
   "source": [
    "# imports\n",
    "%matplotlib inline\n",
    "\n",
    "import sys\n",
    "sys.path.append(\"../code/\")\n",
    "import importlib\n",
    "\n",
    "import sequencer\n",
    "importlib.reload(sequencer)\n",
    "\n",
    "import numpy\n",
    "import matplotlib.pyplot as plt\n",
    "from sklearn.manifold import TSNE\n",
    "from scipy.stats import wasserstein_distance\n",
    "import umap"
   ]
  },
  {
   "cell_type": "code",
   "execution_count": null,
   "metadata": {},
   "outputs": [],
   "source": []
  }
 ],
 "metadata": {
  "kernelspec": {
   "display_name": "Python 3",
   "language": "python",
   "name": "python3"
  },
  "language_info": {
   "codemirror_mode": {
    "name": "ipython",
    "version": 3
   },
   "file_extension": ".py",
   "mimetype": "text/x-python",
   "name": "python",
   "nbconvert_exporter": "python",
   "pygments_lexer": "ipython3",
   "version": "3.7.1"
  }
 },
 "nbformat": 4,
 "nbformat_minor": 4
}
