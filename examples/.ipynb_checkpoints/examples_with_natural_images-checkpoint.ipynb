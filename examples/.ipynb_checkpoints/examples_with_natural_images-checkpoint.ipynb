{
 "cells": [
  {
   "cell_type": "markdown",
   "metadata": {},
   "source": [
    "# Exampes with natural images\n",
    "In this notebook I show several examples with natural images. The rows (and columns) in a natural image form a clear one-dimensional sequence. Therefore, we can shuffle the rows by changing their relative order. Considering each row as a separate 1D object, we can define the shuffled image as the input dataset and apply the Sequencer to it. We can then reorder the rows according to the detected sequence, and to check whether the Sequencer was able to recover the original image. <br>\n",
    "\n",
    "The images I use in this notebook are taken from the COCO dataset (link: XXX). In particular, I used images from the 2017 validation set. <br> \n",
    "\n",
    "The notebook consists of the following parts: <br>\n",
    "1. **Loading and shuffling a natural image:** this part of the notebook will contain functions that I need to load and shuffle images. <br>\n",
    "2. **Applying the Sequencer to a set of shuffled images:** in this part of the notebook we will apply the Sequencer to a set of shuffled images, and will check whether the Sequencer is able to recover the original images. <br>\n",
    "3. **Application of tSNE and UMAP to a shuffled image:** in this part of the notebook I will try to reorder the shuffled images using tSNE and UMAP. I will apply tSNE and UMAP to the shuffled image, and using their one-dimensional embedding, I will reorder the rows to obtain a reconstructed image. Both tSNE and UMAP depend on several hyper-parameters. In the Jupyter notebook `comparison_with_tsne_and_umap.ipynb` in the examples directory, I showed that one can define an axis ratio of the resulting embedding by tSNE and UMAP, and use it as a figure of merit to optimize the hyper parameters of various dimensionality reduction algorithms. In this part of the notebook I will demonstrate this by examining tSNE/UMAP hyper-parameters, and comparing the axis ratios of the resulting embeddings."
   ]
  },
  {
   "cell_type": "code",
   "execution_count": 1,
   "metadata": {},
   "outputs": [],
   "source": [
    "# imports\n",
    "%matplotlib inline\n",
    "\n",
    "import sys\n",
    "sys.path.append(\"../code/\")\n",
    "import importlib\n",
    "\n",
    "import sequencer\n",
    "importlib.reload(sequencer)\n",
    "\n",
    "import numpy\n",
    "import matplotlib.pyplot as plt\n",
    "from sklearn.manifold import TSNE\n",
    "from scipy.stats import wasserstein_distance\n",
    "import umap\n",
    "from skimage.io import imread, imshow\n",
    "from skimage.transform import resize"
   ]
  },
  {
   "cell_type": "markdown",
   "metadata": {},
   "source": [
    "## 1. Loading and shuffling a natural image\n",
    "This part of the notebook contains functions that I need to load and shuffle images. The following cell contains a function that takes as an input an image path, loads the image, and shuffles its rows."
   ]
  },
  {
   "cell_type": "code",
   "execution_count": 2,
   "metadata": {},
   "outputs": [],
   "source": [
    "def return_shuffled_dataset(image_path):\n",
    "    \"\"\"Function loads the image from the input path and down-samples it.\n",
    "    Function then shuffles the image and returns it.\n",
    "    \"\"\"\n",
    "    # load the image\n",
    "    data = imread(image_path, as_gray=True)\n",
    "\n",
    "    # down-sample the image to be 1/3 of its original size\n",
    "    # this is done to reduce the computation time, users can remove it\n",
    "    shape_x = int(data.shape[0]*0.3)\n",
    "    shape_y = int(data.shape[1]*0.3)\n",
    "    new_shape = (shape_x, shape_y)\n",
    "    objects_list = resize(data, new_shape) + 1.\n",
    "\n",
    "    # shuffle the objects in the sample\n",
    "    random_indices = numpy.arange(len(objects_list))\n",
    "    numpy.random.shuffle(random_indices)\n",
    "    objects_list_shuffled = objects_list[random_indices, :]\n",
    "    \n",
    "    # x-axis\n",
    "    grid = numpy.arange(len(objects_list_shuffled[0]))\n",
    "    \n",
    "    return random_indices, grid, objects_list, objects_list_shuffled"
   ]
  },
  {
   "cell_type": "markdown",
   "metadata": {},
   "source": [
    "## 2. Applying the Sequencer to a set of shuffled images\n",
    "In this part of the notebook I will load the different natural images from the directory and will shuffle them. I will then apply the Sequencer to the shuffled images and check whether the Sequencer was able to recover the original image. "
   ]
  },
  {
   "cell_type": "code",
   "execution_count": 3,
   "metadata": {},
   "outputs": [
    {
     "name": "stdout",
     "output_type": "stream",
     "text": [
      "000000000285.jpg  000000085682.jpg  000000249025.jpg  000000458992.jpg\r\n",
      "000000012576.jpg  000000098520.jpg  000000287649.jpg  000000544519.jpg\r\n",
      "000000032081.jpg  000000170893.jpg  000000374545.jpg  000000570736.jpg\r\n",
      "000000065485.jpg  000000210708.jpg  000000414261.jpg\r\n"
     ]
    }
   ],
   "source": [
    "%ls data_for_examples/images_from_COCO_dataset/"
   ]
  },
  {
   "cell_type": "code",
   "execution_count": null,
   "metadata": {},
   "outputs": [
    {
     "name": "stdout",
     "output_type": "stream",
     "text": [
      "calculating the distance matrices for estimator: EMD, scale: 1\n",
      "finished calculating this distance matrix list, it took: 2.070777177810669 seconds\n",
      "calculating the distance matrices for estimator: EMD, scale: 2\n",
      "finished calculating this distance matrix list, it took: 3.3603482246398926 seconds\n",
      "calculating the distance matrices for estimator: EMD, scale: 4\n",
      "finished calculating this distance matrix list, it took: 6.048532009124756 seconds\n",
      "calculating the distance matrices for estimator: EMD, scale: 8\n",
      "finished calculating this distance matrix list, it took: 12.590080976486206 seconds\n",
      "calculating the distance matrices for estimator: energy, scale: 1\n",
      "finished calculating this distance matrix list, it took: 2.171283006668091 seconds\n",
      "calculating the distance matrices for estimator: energy, scale: 2\n",
      "finished calculating this distance matrix list, it took: 3.8356170654296875 seconds\n",
      "calculating the distance matrices for estimator: energy, scale: 4\n",
      "finished calculating this distance matrix list, it took: 7.321871995925903 seconds\n",
      "calculating the distance matrices for estimator: energy, scale: 8\n",
      "finished calculating this distance matrix list, it took: 12.896497249603271 seconds\n",
      "calculating the distance matrices for estimator: KL, scale: 1\n"
     ]
    }
   ],
   "source": [
    "image_path = \"data_for_examples/images_from_COCO_dataset/000000000285.jpg\"\n",
    "\n",
    "# get the shuffled image\n",
    "random_indices, grid, objects_list, objects_list_shuffled = return_shuffled_dataset(image_path)\n",
    "print(\"shape of the input dataset: \", objects_list_shuffled.shape)\n",
    "\n",
    "# apply the Sequencer to the shuffled dataset\n",
    "estimator_list = ['EMD', 'energy', 'KL', 'L2']\n",
    "seq = sequencer.Sequencer(grid, objects_list_shuffled, estimator_list)\n",
    "output_path = \"sequencer_output_directory\"\n",
    "final_axis_ratio, final_sequence = seq.execute(output_path, \n",
    "                                               to_average_N_best_estimators=True, \n",
    "                                               number_of_best_estimators=3)"
   ]
  },
  {
   "cell_type": "code",
   "execution_count": null,
   "metadata": {},
   "outputs": [],
   "source": []
  }
 ],
 "metadata": {
  "kernelspec": {
   "display_name": "Python 3",
   "language": "python",
   "name": "python3"
  },
  "language_info": {
   "codemirror_mode": {
    "name": "ipython",
    "version": 3
   },
   "file_extension": ".py",
   "mimetype": "text/x-python",
   "name": "python",
   "nbconvert_exporter": "python",
   "pygments_lexer": "ipython3",
   "version": "3.7.1"
  }
 },
 "nbformat": 4,
 "nbformat_minor": 4
}
