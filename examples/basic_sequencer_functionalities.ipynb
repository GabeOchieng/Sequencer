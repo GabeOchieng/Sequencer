{
 "cells": [
  {
   "cell_type": "markdown",
   "metadata": {},
   "source": [
    "# Exploring the basic functionalities of the Sequencer\n",
    "This notebook will contain examples that show the basic functionalities of the Sequencer. The notebook starts with a simulation of a very simple dataset that contains a clear one-dimensional sequence. Then, I will show several examples of how to apply the Sequencer to this dataset and how to use its output and various derived parameters. In particular, the will show: <br>\n",
    "1. **Basic Sequencer run:** application of the Sequencer, with default settings, to the dataset. I will show how to define the Sequencer object and how to execute the Sequencer. I will show how to extract the axis ratio and the resulting sequence, and how to visualize the ordered dataset. Then, I will show how to extract other properties of the algorithm, such as the estimators and scales, and intermediate axis ratios and sequences. <br>\n",
    "2. **Basic Sequencer run with parallelization:** the Sequencer algorithm involves the calculation of a set of distance matrices for the different estimators and scales. For large datasets, this takes most of the computation time. In this example I will show how to estimate the distance matrices in parallel. <br>\n",
    "2. **Non-default Sequencer setting:** application of the sequencer with non-default settings. I will show how to define the scale list, and how to change the print and output options of the sequencer. <br>\n",
    "3. **Loading the distance matrix list from memory:** when applying the algorithm to the data, one can choose to save the calculated distance matrices per estimator and scale for future use. If the algorithm is used more than once for the same dataset, saving the calculated distance matrices and then loading them can save a lot of computation time. In this exmaple I will show how to load the distance matrix list into memory and avoid the time it takes to re-compute them (this becomes very important for large datasets!)."
   ]
  },
  {
   "cell_type": "code",
   "execution_count": 4,
   "metadata": {},
   "outputs": [],
   "source": [
    "# imports\n",
    "%matplotlib inline\n",
    "\n",
    "import sys\n",
    "sys.path.append(\"../\")\n",
    "import importlib\n",
    "\n",
    "import sequencer\n",
    "importlib.reload(sequencer)\n",
    "\n",
    "import numpy\n",
    "import matplotlib.pyplot as plt"
   ]
  },
  {
   "cell_type": "markdown",
   "metadata": {},
   "source": [
    "## Simulate a very simple dataset\n",
    "I will start by simulating a very simple dataset that consists of 1D objects with a single pulse. The dataset will contain 20 objects, each of length 20. Each object will be composed of zero continuum and a single pulse with a varying location. The locations of the pulses in the different objects will form a clear one-dimensional sequence. <br>\n",
    "The final dataset will be a shuffled version of the simulated dataset."
   ]
  },
  {
   "cell_type": "code",
   "execution_count": 5,
   "metadata": {},
   "outputs": [],
   "source": [
    "# construct the grid and the objects_list\n",
    "\n",
    "grid = numpy.arange(20)\n",
    "objects_list_simulated = []\n",
    "objects_true_indices = numpy.arange(20) # the ordered indices\n",
    "\n",
    "for i in range(20):\n",
    "    y = numpy.zeros(20)\n",
    "    y[i] = 1\n",
    "    objects_list_simulated.append(y)\n",
    "objects_list_simulated = numpy.array(objects_list_simulated)\n",
    "    \n",
    "numpy.random.shuffle(objects_true_indices)\n",
    "objects_list_shuffled = objects_list_simulated[objects_true_indices, :]"
   ]
  },
  {
   "cell_type": "markdown",
   "metadata": {},
   "source": [
    "**Input data visualization:** the dataset consists of 20 one-dimensional objects. I can plot each of the objects separately using 1D lines, where the relative height of each 1D line represents its relative order within the dataset. Alternatively, I can plot all the objects together as a matrix, using 2D image. In the following cells, I visualize the dataset using both methods."
   ]
  },
  {
   "cell_type": "code",
   "execution_count": 6,
   "metadata": {},
   "outputs": [
    {
     "data": {
      "image/png": "[encoded data removed]",
      "text/plain": [
       "<Figure size 360x720 with 1 Axes>"
      ]
     },
     "metadata": {
      "needs_background": "light"
     },
     "output_type": "display_data"
    }
   ],
   "source": [
    "# visualize the input dataset as separate objects\n",
    "\n",
    "plt.figure(1, figsize=(5, 10))\n",
    "plt.title(\"input dataset\")\n",
    "for i, object_data in enumerate(objects_list_shuffled):\n",
    "    object_data_scaled_y = object_data + i*1.5 # scale the objects so they will not be one on top of the other\n",
    "    plt.step(grid, object_data_scaled_y, \"k\")\n",
    "    \n",
    "plt.xlabel(\"x\")\n",
    "plt.ylabel(\"scaled intensity\")\n",
    "\n",
    "plt.tight_layout()"
   ]
  },
  {
   "cell_type": "code",
   "execution_count": 7,
   "metadata": {},
   "outputs": [
    {
     "data": {
      "image/png": "[encoded data removed]",
      "text/plain": [
       "<Figure size 360x288 with 2 Axes>"
      ]
     },
     "metadata": {
      "needs_background": "light"
     },
     "output_type": "display_data"
    }
   ],
   "source": [
    "# visualize the input dataset \n",
    "\n",
    "plt.figure(1, figsize=(5, 4))\n",
    "plt.title(\"input dataset\")\n",
    "plt.pcolormesh(objects_list_shuffled)\n",
    "plt.colorbar()\n",
    "plt.xlabel(\"x\")\n",
    "plt.ylabel(\"original index\")\n",
    "\n",
    "plt.tight_layout()"
   ]
  },
  {
   "cell_type": "markdown",
   "metadata": {},
   "source": [
    "## 1. Basic Sequencer run\n",
    "I will start by applying the Sequencer to this dataset using its default settings. In the first cell, I define the list of distance metrics to consider. I then define the Sequencer object and apply it to the dataset."
   ]
  },
  {
   "cell_type": "code",
   "execution_count": 8,
   "metadata": {},
   "outputs": [
    {
     "name": "stdout",
     "output_type": "stream",
     "text": [
      "calculating the distance matrices for estimator: EMD, scale: 1\n",
      "finished calculating this distance matrix list, it took: 0.02406787872314453 seconds\n",
      "calculating the distance matrices for estimator: energy, scale: 1\n",
      "finished calculating this distance matrix list, it took: 0.023305892944335938 seconds\n",
      "calculating the distance matrices for estimator: L2, scale: 1\n",
      "finished calculating this distance matrix list, it took: 0.0015270709991455078 seconds\n",
      "dumped the distance matrix dictionaries to the file: sequencer_output_directory/distance_matrices.pkl\n",
      "strating to sequence the different scales and estimators\n",
      "in estimator: EMD, scale: 1\n",
      "in estimator: energy, scale: 1\n",
      "in estimator: L2, scale: 1\n",
      "dumped the axis ratios to the file: sequencer_output_directory/axis_ratios.pkl\n",
      "dumped the full weighted distance matrix to the file: sequencer_output_directory/weighted_distance_matrix.pkl\n",
      "dumped the sparse distance matrix to the file: <_io.BufferedWriter name='sequencer_output_directory/sparse_distance_matrix.pkl'>\n",
      "dumped the final sequences and axis ratio to the file: <_io.BufferedWriter name='sequencer_output_directory/final_products.pkl'>\n"
     ]
    },
    {
     "name": "stderr",
     "output_type": "stream",
     "text": [
      "../sequencer/sequencer_.py:937: RuntimeWarning: divide by zero encountered in true_divide\n",
      "  distance_matrix = 1.0 / proximity_matrix_copy\n"
     ]
    }
   ],
   "source": [
    "# define the list of distance metrics to consider.\n",
    "# I don't include the KL-Divergence because the dataset contains zero values\n",
    "estimator_list = ['EMD', 'energy', 'L2']\n",
    "\n",
    "# define the sequencer object with default parameters\n",
    "seq = sequencer.Sequencer(grid, objects_list_shuffled, estimator_list)\n",
    "\n",
    "# to execute the sequencer, we first need to define the output directory to which the different \n",
    "# outputs will be saved\n",
    "output_path = \"sequencer_output_directory\"\n",
    "final_axis_ratio, final_sequence = seq.execute(output_path)"
   ]
  },
  {
   "cell_type": "markdown",
   "metadata": {},
   "source": [
    "**Result:** The Sequencer was successfully applied to the dataset. I will now print the resulting axis ratio and sequence. The detected sequence vector represents the order in which the objects in the dataset should be ordered. <br>\n",
    "After printing the axis raito and resulting sequence, I will reorder the objects in the dataset according to the detected sequence, and will plot the ordered dataset."
   ]
  },
  {
   "cell_type": "code",
   "execution_count": 9,
   "metadata": {},
   "outputs": [
    {
     "name": "stdout",
     "output_type": "stream",
     "text": [
      "The MST axis ratio:  20.0\n",
      "The resulting sequence:  [14 10  9 13  3 16  7 19  6 12  2  0  8  4  5  1 15 11 18 17]\n"
     ]
    },
    {
     "data": {
      "image/png": "[encoded data removed]",
      "text/plain": [
       "<Figure size 720x288 with 4 Axes>"
      ]
     },
     "metadata": {
      "needs_background": "light"
     },
     "output_type": "display_data"
    }
   ],
   "source": [
    "# print the final axis ratio\n",
    "print(\"The MST axis ratio: \", final_axis_ratio)\n",
    "\n",
    "# print the resulting sequence\n",
    "print(\"The resulting sequence: \", final_sequence)\n",
    "\n",
    "# order the input dataset according to the detected sequence\n",
    "objects_list_ordered = objects_list_shuffled[final_sequence]\n",
    "\n",
    "# visualize the ordered dataset\n",
    "plt.figure(1, figsize=(10, 4))\n",
    "plt.subplot(1, 2, 1)\n",
    "plt.title(\"input dataset\")\n",
    "plt.pcolormesh(objects_list_shuffled)\n",
    "plt.colorbar()\n",
    "plt.xlabel(\"x\")\n",
    "plt.ylabel(\"original index\")\n",
    "\n",
    "plt.subplot(1, 2, 2)\n",
    "plt.title(\"ordered dataset\")\n",
    "plt.pcolormesh(objects_list_ordered)\n",
    "plt.colorbar()\n",
    "plt.xlabel(\"x\")\n",
    "plt.ylabel(\"original index\")\n",
    "\n",
    "plt.tight_layout()"
   ]
  },
  {
   "cell_type": "markdown",
   "metadata": {},
   "source": [
    "**Results:** The sequencer successfully identified the one-dimensional trend in pulse location, and we obtained an axis ratio of 20, which represents a perfect sequence. <br>\n",
    "\n",
    "Now, I will print several additional properties of the algorithm: I will start by extracting and printing the distance metrics and scales that were used to estimate the final sequence. Then, I will show how to extract the intermediate axis ratios that were calculated during the run, where each intermediate axis ratio corresponds to a particular distance metric and scale. By examining the intermediate axis ratios, we can learn which metric and scale was the most useful."
   ]
  },
  {
   "cell_type": "code",
   "execution_count": 10,
   "metadata": {},
   "outputs": [
    {
     "name": "stdout",
     "output_type": "stream",
     "text": [
      "['EMD', 'energy', 'L2']\n",
      "[[1], [1], [1]]\n",
      "The metrics and scales used by the code:\n",
      "I used metric EMD with scale 1\n",
      "I used metric energy with scale 1\n",
      "I used metric L2 with scale 1\n"
     ]
    }
   ],
   "source": [
    "# extract the distance metric list and scale list\n",
    "estimator_list = seq.estimator_list # distance metrics\n",
    "scale_list = seq.scale_list # scales\n",
    "print(estimator_list)\n",
    "print(scale_list)\n",
    "\n",
    "# print them one by one\n",
    "print(\"The metrics and scales used by the code:\")\n",
    "for estimator_index, estimator_name in enumerate(estimator_list):\n",
    "    scale_list_of_estimator = scale_list[estimator_index]\n",
    "    for scale_index, scale_name in enumerate(scale_list_of_estimator):\n",
    "        print(\"I used metric %s with scale %s\" % (estimator_name, scale_name))"
   ]
  },
  {
   "cell_type": "markdown",
   "metadata": {},
   "source": [
    "Now let's examine the intermediate axis ratios obtained for each estimator and scale. To do that, there are several different options: <br>\n",
    "1. The first is using the function ```seq.return_axis_ratio_of_weighted_products(estimator_name, scale)```, which returns the intermediate axis ratio only for the given ```estimator_name``` and ```scale```. I will show this example first. <br> <br>\n",
    "2. The second is using the function ```seq.return_axis_ratio_of_weighted_products_all_metrics_and_scales()```, which resturns a list of all estimators, scales, and their corresponding intermediate axis ratios. I will show this example sceond. "
   ]
  },
  {
   "cell_type": "code",
   "execution_count": 11,
   "metadata": {},
   "outputs": [
    {
     "name": "stdout",
     "output_type": "stream",
     "text": [
      "Intermediate axis ratio for metric=EMD and scale=1: 20.0\n",
      "metric=EMD, scale=1, axis ratio: 20.0\n",
      "metric=energy, scale=1, axis ratio: 20.0\n",
      "metric=L2, scale=1, axis ratio: 2.5\n"
     ]
    }
   ],
   "source": [
    "# first example\n",
    "estimator_name = 'EMD'\n",
    "scale = 1\n",
    "print(\"Intermediate axis ratio for metric=%s and scale=%s: %s\" % (estimator_name, scale, \n",
    "                                                                  seq.return_axis_ratio_of_weighted_products(estimator_name, scale)))\n",
    "\n",
    "# second example\n",
    "estimator_list, scale_list, axis_ratio_list = seq.return_axis_ratio_of_weighted_products_all_metrics_and_scales()\n",
    "for i in range(len(estimator_list)):\n",
    "    print(\"metric=%s, scale=%s, axis ratio: %s\" % (estimator_list[i], \n",
    "                                                   scale_list[i], \n",
    "                                                   axis_ratio_list[i]))"
   ]
  },
  {
   "cell_type": "markdown",
   "metadata": {},
   "source": [
    "**What do we see?** when using the EMD or the Energy Distance, we find a maximal axis ratio of 20, which represents a perfect sequence. On the other hand, when using the Euclidean Distance (L2), we find a very low axis ratio of 2.5. This is expected since the Euclidean distance is not sensitive to horizontal shifts in the data, and thus the distance between all the objects in the sample is similar. Therefore, using the Euclidean Distance, we cannot recover the one-dimensional trend. The EMD and Energy Distance are sensitive to horizontal shifts, and thus they can be used to detect the sequence. <br>\n",
    "\n",
    "To illustrate this point further, let's extract the intermediate sequences for each estimator and scale, and plot the resulting ordering. There are two functions that can be used to extract the intemediate sequences, which are very similar to the functions that extract the intermediate axis ratios: <br>\n",
    "1. The first is using the function ```seq.return_sequence_of_weighted_products(estimator_name, scale)```, which returns the intermediate sequence only for the given ```estimator_name``` and ```scale```. I will not show this example. <br> <br>\n",
    "2. The second is using the function ```seq.return_sequence_of_weighted_products_all_metrics_and_scales()```, which resturns a list of all estimators, scales, and their corresponding intermediate sequences. I will show only this example. "
   ]
  },
  {
   "cell_type": "code",
   "execution_count": 12,
   "metadata": {},
   "outputs": [
    {
     "data": {
      "image/png": "[encoded data removed]",
      "text/plain": [
       "<Figure size 1152x288 with 8 Axes>"
      ]
     },
     "metadata": {
      "needs_background": "light"
     },
     "output_type": "display_data"
    }
   ],
   "source": [
    "estimator_list, scale_list, sequence_list = seq.return_sequence_of_weighted_products_all_metrics_and_scales()\n",
    "\n",
    "plt.figure(1, figsize=(16, 4))\n",
    "\n",
    "plt.subplot(1, 4, 1)\n",
    "plt.title(\"input dataset\")\n",
    "plt.pcolormesh(objects_list_shuffled)\n",
    "plt.colorbar()\n",
    "plt.xlabel(\"x\")\n",
    "plt.ylabel(\"original index\")\n",
    "\n",
    "plt.subplot(1, 4, 2)\n",
    "plt.title(\"ordered according to\\n intermediate sequence using: \\n metric=%s, scale=%s\" % (estimator_list[0], scale_list[0]))\n",
    "sequnce = sequence_list[0]\n",
    "plt.pcolormesh(objects_list_shuffled[sequnce])\n",
    "plt.colorbar()\n",
    "plt.xlabel(\"x\")\n",
    "plt.ylabel(\"original index\")\n",
    "\n",
    "plt.subplot(1, 4, 3)\n",
    "plt.title(\"ordered according to\\n intermediate sequence using: \\n metric=%s, scale=%s\" % (estimator_list[1], scale_list[1]))\n",
    "sequnce = sequence_list[1]\n",
    "plt.pcolormesh(objects_list_shuffled[sequnce])\n",
    "plt.colorbar()\n",
    "plt.xlabel(\"x\")\n",
    "plt.ylabel(\"original index\")\n",
    "\n",
    "plt.subplot(1, 4, 4)\n",
    "plt.title(\"ordered according to\\n intermediate sequence using: \\n metric=%s, scale=%s\" % (estimator_list[2], scale_list[2]))\n",
    "sequnce = sequence_list[2]\n",
    "plt.pcolormesh(objects_list_shuffled[sequnce])\n",
    "plt.colorbar()\n",
    "plt.xlabel(\"x\")\n",
    "plt.ylabel(\"original index\")\n",
    "\n",
    "plt.tight_layout()"
   ]
  },
  {
   "cell_type": "markdown",
   "metadata": {},
   "source": [
    "As expected, we find a perfect sequence using the EMD and the Energy distance, and no sequence using the Euclidean Distance."
   ]
  },
  {
   "cell_type": "markdown",
   "metadata": {},
   "source": [
    "## 2. Basic Sequencer run with parallelization\n",
    "Now I will apply the Sequencer to the same dataset, still with default settings, but I will show how to apply parallelization. To use parallelization, we can use the option ```to_use_parallelization=True``` in the function ```seq.execute()```. <br>\n",
    "Obviously, for this tiny dataset, this will not imporve the computation time of the algorithm. For large datasets, users are encoraged to use this option to improve the computation time!"
   ]
  },
  {
   "cell_type": "code",
   "execution_count": 13,
   "metadata": {},
   "outputs": [
    {
     "name": "stdout",
     "output_type": "stream",
     "text": [
      "Parallelization is ON. Number of cores: 4\n",
      "calculating the distance matrices for estimator: EMD, scale: 1\n",
      "finished calculating this distance matrix list, it took: 1.940631628036499 seconds\n",
      "calculating the distance matrices for estimator: energy, scale: 1\n",
      "finished calculating this distance matrix list, it took: 0.050850868225097656 seconds\n",
      "calculating the distance matrices for estimator: L2, scale: 1\n",
      "finished calculating this distance matrix list, it took: 0.033550262451171875 seconds\n",
      "dumped the distance matrix dictionaries to the file: sequencer_output_directory/distance_matrices.pkl\n",
      "strating to sequence the different scales and estimators\n",
      "in estimator: EMD, scale: 1\n",
      "in estimator: energy, scale: 1\n",
      "in estimator: L2, scale: 1\n",
      "dumped the axis ratios to the file: sequencer_output_directory/axis_ratios.pkl\n",
      "dumped the full weighted distance matrix to the file: sequencer_output_directory/weighted_distance_matrix.pkl\n",
      "dumped the sparse distance matrix to the file: <_io.BufferedWriter name='sequencer_output_directory/sparse_distance_matrix.pkl'>\n",
      "dumped the final sequences and axis ratio to the file: <_io.BufferedWriter name='sequencer_output_directory/final_products.pkl'>\n"
     ]
    }
   ],
   "source": [
    "estimator_list = ['EMD', 'energy', 'L2']\n",
    "seq = sequencer.Sequencer(grid, objects_list_shuffled, estimator_list)\n",
    "\n",
    "output_path = \"sequencer_output_directory\"\n",
    "final_axis_ratio, final_sequence = seq.execute(output_path, to_use_parallelization=True)"
   ]
  },
  {
   "cell_type": "code",
   "execution_count": 14,
   "metadata": {},
   "outputs": [
    {
     "name": "stdout",
     "output_type": "stream",
     "text": [
      "The MST axis ratio:  20.0\n",
      "The resulting sequence:  [14 10  9 13  3 16  7 19  6 12  2  0  8  4  5  1 15 11 18 17]\n"
     ]
    },
    {
     "data": {
      "image/png": "[encoded data removed]",
      "text/plain": [
       "<Figure size 720x288 with 4 Axes>"
      ]
     },
     "metadata": {
      "needs_background": "light"
     },
     "output_type": "display_data"
    }
   ],
   "source": [
    "# print the final axis ratio\n",
    "print(\"The MST axis ratio: \", final_axis_ratio)\n",
    "\n",
    "# print the resulting sequence\n",
    "print(\"The resulting sequence: \", final_sequence)\n",
    "\n",
    "# order the input dataset according to the detected sequence\n",
    "objects_list_ordered = objects_list_shuffled[final_sequence]\n",
    "\n",
    "# visualize the ordered dataset\n",
    "plt.figure(1, figsize=(10, 4))\n",
    "plt.subplot(1, 2, 1)\n",
    "plt.title(\"input dataset\")\n",
    "plt.pcolormesh(objects_list_shuffled)\n",
    "plt.colorbar()\n",
    "plt.xlabel(\"x\")\n",
    "plt.ylabel(\"original index\")\n",
    "\n",
    "plt.subplot(1, 2, 2)\n",
    "plt.title(\"ordered dataset\")\n",
    "plt.pcolormesh(objects_list_ordered)\n",
    "plt.colorbar()\n",
    "plt.xlabel(\"x\")\n",
    "plt.ylabel(\"original index\")\n",
    "\n",
    "plt.tight_layout()"
   ]
  },
  {
   "cell_type": "markdown",
   "metadata": {},
   "source": [
    "## 3. Non-default Sequencer setting\n",
    "In this example I will show how to change some of the default parameters of the Sequencer. <br>\n",
    "I will start by showing how to define the scale list and will then examine the intermediate axis ratios for these new scales. Then, I will show how to change the default print and save settings of the Sequencer. <br>\n",
    "\n",
    "In the next cell, I will define the distance metric list to include the EMD and the Energy Distance. For the scales, I will use scales 1, 2, and 4 for the EMD. A ```scale=2``` suggests that the algorithm will split each object into two parts, will compute distance matrices for objects in each given part, and will then aggregate all this information into a single weighted distance matrix. When ```scale=4```, the algorithm will split each object into 4 parts. For the Energy Distance, I will use the scales 4, 6, and 8. <br>\n",
    "Since I am going to split each object into parts, but each object contains a single non-zero element, I will get chunks of objects which contain only zeros. It is impossible to estimate the distance between objects which contain only zeros (both using the EMD and the Energy distance). Therefore, I will add 1 to all the objects, such that the continuum will be 1, and the pulse will be 2. "
   ]
  },
  {
   "cell_type": "code",
   "execution_count": 15,
   "metadata": {},
   "outputs": [
    {
     "name": "stdout",
     "output_type": "stream",
     "text": [
      "calculating the distance matrices for estimator: EMD, scale: 1\n",
      "finished calculating this distance matrix list, it took: 0.031008005142211914 seconds\n",
      "calculating the distance matrices for estimator: EMD, scale: 2\n",
      "finished calculating this distance matrix list, it took: 0.04433274269104004 seconds\n",
      "calculating the distance matrices for estimator: EMD, scale: 4\n",
      "finished calculating this distance matrix list, it took: 0.06460213661193848 seconds\n",
      "calculating the distance matrices for estimator: energy, scale: 4\n",
      "finished calculating this distance matrix list, it took: 0.0763399600982666 seconds\n",
      "calculating the distance matrices for estimator: energy, scale: 6\n",
      "finished calculating this distance matrix list, it took: 0.09572196006774902 seconds\n",
      "calculating the distance matrices for estimator: energy, scale: 8\n",
      "finished calculating this distance matrix list, it took: 0.1544339656829834 seconds\n",
      "dumped the distance matrix dictionaries to the file: sequencer_output_directory/distance_matrices.pkl\n",
      "strating to sequence the different scales and estimators\n",
      "in estimator: EMD, scale: 1\n",
      "in estimator: EMD, scale: 2\n",
      "in estimator: EMD, scale: 4\n",
      "in estimator: energy, scale: 4\n",
      "in estimator: energy, scale: 6\n",
      "in estimator: energy, scale: 8\n",
      "dumped the axis ratios to the file: sequencer_output_directory/axis_ratios.pkl\n",
      "dumped the full weighted distance matrix to the file: sequencer_output_directory/weighted_distance_matrix.pkl\n",
      "dumped the sparse distance matrix to the file: <_io.BufferedWriter name='sequencer_output_directory/sparse_distance_matrix.pkl'>\n",
      "dumped the final sequences and axis ratio to the file: <_io.BufferedWriter name='sequencer_output_directory/final_products.pkl'>\n"
     ]
    }
   ],
   "source": [
    "# define a new set of estimators and scales\n",
    "estimator_list = ['EMD', 'energy']\n",
    "scale_list = [[1, 2, 4], [4, 6, 8]]\n",
    "objects_list_shuffled_scaled = objects_list_shuffled + 1\n",
    "seq = sequencer.Sequencer(grid, objects_list_shuffled_scaled, estimator_list, scale_list=scale_list)\n",
    "\n",
    "output_path = \"sequencer_output_directory\"\n",
    "final_axis_ratio, final_sequence = seq.execute(output_path)"
   ]
  },
  {
   "cell_type": "code",
   "execution_count": 16,
   "metadata": {},
   "outputs": [
    {
     "name": "stdout",
     "output_type": "stream",
     "text": [
      "The MST axis ratio:  20.0\n",
      "The resulting sequence:  [14 10  9 13  3 16  7 19  6 12  2  0  8  4  5  1 15 11 18 17]\n"
     ]
    },
    {
     "data": {
      "image/png": "[encoded data removed]",
      "text/plain": [
       "<Figure size 720x288 with 4 Axes>"
      ]
     },
     "metadata": {
      "needs_background": "light"
     },
     "output_type": "display_data"
    }
   ],
   "source": [
    "# print the final axis ratio\n",
    "print(\"The MST axis ratio: \", final_axis_ratio)\n",
    "\n",
    "# print the resulting sequence\n",
    "print(\"The resulting sequence: \", final_sequence)\n",
    "\n",
    "# order the input dataset according to the detected sequence\n",
    "objects_list_ordered = objects_list_shuffled_scaled[final_sequence]\n",
    "\n",
    "# visualize the ordered dataset\n",
    "plt.figure(1, figsize=(10, 4))\n",
    "plt.subplot(1, 2, 1)\n",
    "plt.title(\"input dataset\")\n",
    "plt.pcolormesh(objects_list_shuffled_scaled)\n",
    "plt.colorbar()\n",
    "plt.xlabel(\"x\")\n",
    "plt.ylabel(\"original index\")\n",
    "\n",
    "plt.subplot(1, 2, 2)\n",
    "plt.title(\"ordered dataset\")\n",
    "plt.pcolormesh(objects_list_ordered)\n",
    "plt.colorbar()\n",
    "plt.xlabel(\"x\")\n",
    "plt.ylabel(\"original index\")\n",
    "\n",
    "plt.tight_layout()"
   ]
  },
  {
   "cell_type": "markdown",
   "metadata": {},
   "source": [
    "Now I want to examine the intermediate axis ratios obtained for the different distance metrics and scales:"
   ]
  },
  {
   "cell_type": "code",
   "execution_count": 17,
   "metadata": {},
   "outputs": [
    {
     "name": "stdout",
     "output_type": "stream",
     "text": [
      "intermediate axis ratios for the different metrics and scales:\n",
      "metric=EMD, scale=1, axis ratio: 20.0\n",
      "metric=EMD, scale=2, axis ratio: 8.8\n",
      "metric=EMD, scale=4, axis ratio: 4.5200000000000005\n",
      "metric=energy, scale=4, axis ratio: 3.9050000000000002\n",
      "metric=energy, scale=6, axis ratio: 4.68\n",
      "metric=energy, scale=8, axis ratio: 3.01\n"
     ]
    }
   ],
   "source": [
    "print(\"intermediate axis ratios for the different metrics and scales:\")\n",
    "estimator_list, scale_list, axis_ratio_list = seq.return_axis_ratio_of_weighted_products_all_metrics_and_scales()\n",
    "for i in range(len(estimator_list)):\n",
    "    print(\"metric=%s, scale=%s, axis ratio: %s\" % (estimator_list[i], \n",
    "                                                   scale_list[i], \n",
    "                                                   axis_ratio_list[i]))"
   ]
  },
  {
   "cell_type": "markdown",
   "metadata": {},
   "source": [
    "**What do we see?** we find a decreasing axis ratio with increasing scale. This means that as we divide these objects into more parts, it is more difficult for us to detect a sequence. This is rather expected: when we divide the objects into two parts, it means that in one of the parts, half of the objects will appear as constant vectors (because the pulse will be present in the other part), and constant vectors do not form a sequence. This means that in each part, only half of the objects will show a clear sequence, and half will not. This problem becomes worse as we increase the scale: when we split the objects into 4 parts, in each part only 20/4=5 objects will show a clear sequence, while the rest (15) will not! <br>\n",
    "\n",
    "We see that the Sequencer can automatically detect the relevant scales of the problem. That is, it can detect the scales in which the strongest sequence signature is present. Although we used several scales which are not optimal, the final sequence is a perfect sequence with an axis ratio of 20. This is because the Sequencer gave larger weight to the best estimator+scale, which is EMD scale=1 in this case. In the other notebooks, you can find examples of datasets in which small-scale information is more important. <br><br>\n",
    "\n",
    "**Averaging only the N best estimators:** although the Sequencer gives a larger weight to metrics+scales with larger axis ratios, we might be in a situtation where there is only one good metric+scale, and many irrelevant ones. In such case, it is possible that the perfect sequence will be dilluted by the many bad scales. To avoid this, we can set the Sequencer to take into account only the N best estimators (metrics+scales). Below, I will increase the number of the irrelevant scales even more to dillute the result on purpose. I will then show how to use the ```to_average_N_best_estimators``` option in the ```seq.execute()``` function to avoid this problem. "
   ]
  },
  {
   "cell_type": "code",
   "execution_count": 18,
   "metadata": {
    "scrolled": true
   },
   "outputs": [
    {
     "name": "stdout",
     "output_type": "stream",
     "text": [
      "calculating the distance matrices for estimator: EMD, scale: 1\n",
      "finished calculating this distance matrix list, it took: 0.028072834014892578 seconds\n",
      "calculating the distance matrices for estimator: EMD, scale: 2\n",
      "finished calculating this distance matrix list, it took: 0.04155111312866211 seconds\n",
      "calculating the distance matrices for estimator: EMD, scale: 10\n",
      "finished calculating this distance matrix list, it took: 0.15910792350769043 seconds\n",
      "calculating the distance matrices for estimator: EMD, scale: 11\n",
      "finished calculating this distance matrix list, it took: 0.1666719913482666 seconds\n",
      "calculating the distance matrices for estimator: EMD, scale: 12\n",
      "finished calculating this distance matrix list, it took: 0.17479825019836426 seconds\n",
      "calculating the distance matrices for estimator: EMD, scale: 13\n",
      "finished calculating this distance matrix list, it took: 0.19611597061157227 seconds\n",
      "calculating the distance matrices for estimator: EMD, scale: 14\n",
      "finished calculating this distance matrix list, it took: 0.21926307678222656 seconds\n",
      "calculating the distance matrices for estimator: EMD, scale: 15\n",
      "finished calculating this distance matrix list, it took: 0.3265550136566162 seconds\n",
      "calculating the distance matrices for estimator: EMD, scale: 16\n",
      "finished calculating this distance matrix list, it took: 0.29750800132751465 seconds\n",
      "calculating the distance matrices for estimator: EMD, scale: 17\n",
      "finished calculating this distance matrix list, it took: 0.25270915031433105 seconds\n",
      "calculating the distance matrices for estimator: EMD, scale: 18\n",
      "finished calculating this distance matrix list, it took: 0.3304629325866699 seconds\n",
      "calculating the distance matrices for estimator: EMD, scale: 19\n",
      "finished calculating this distance matrix list, it took: 0.28908514976501465 seconds\n",
      "dumped the distance matrix dictionaries to the file: sequencer_output_directory/distance_matrices.pkl\n",
      "strating to sequence the different scales and estimators\n",
      "in estimator: EMD, scale: 1\n",
      "in estimator: EMD, scale: 2\n",
      "in estimator: EMD, scale: 10\n",
      "in estimator: EMD, scale: 11\n",
      "in estimator: EMD, scale: 12\n",
      "in estimator: EMD, scale: 13\n",
      "in estimator: EMD, scale: 14\n",
      "in estimator: EMD, scale: 15\n",
      "in estimator: EMD, scale: 16\n",
      "in estimator: EMD, scale: 17\n",
      "in estimator: EMD, scale: 18\n",
      "in estimator: EMD, scale: 19\n",
      "dumped the axis ratios to the file: sequencer_output_directory/axis_ratios.pkl\n",
      "dumped the full weighted distance matrix to the file: sequencer_output_directory/weighted_distance_matrix.pkl\n",
      "dumped the sparse distance matrix to the file: <_io.BufferedWriter name='sequencer_output_directory/sparse_distance_matrix.pkl'>\n",
      "dumped the final sequences and axis ratio to the file: <_io.BufferedWriter name='sequencer_output_directory/final_products.pkl'>\n"
     ]
    }
   ],
   "source": [
    "# define a new set of estimators and scales\n",
    "estimator_list = ['EMD']\n",
    "scale_list = [[1, 2, 10, 11, 12, 13, 14, 15, 16, 17, 18, 19]]\n",
    "objects_list_shuffled_scaled = objects_list_shuffled + 1\n",
    "seq = sequencer.Sequencer(grid, objects_list_shuffled_scaled, estimator_list, scale_list=scale_list)\n",
    "\n",
    "output_path = \"sequencer_output_directory\"\n",
    "final_axis_ratio, final_sequence = seq.execute(output_path)"
   ]
  },
  {
   "cell_type": "code",
   "execution_count": 19,
   "metadata": {},
   "outputs": [
    {
     "name": "stdout",
     "output_type": "stream",
     "text": [
      "The MST axis ratio:  7.71\n",
      "The resulting sequence:  [19  6 12 14 11 13 18 15  1 17 10  9  2  4  8  0  3  5  7 16]\n"
     ]
    },
    {
     "data": {
      "image/png": "[encoded data removed]",
      "text/plain": [
       "<Figure size 720x288 with 4 Axes>"
      ]
     },
     "metadata": {
      "needs_background": "light"
     },
     "output_type": "display_data"
    }
   ],
   "source": [
    "# print the final axis ratio\n",
    "print(\"The MST axis ratio: \", final_axis_ratio)\n",
    "\n",
    "# print the resulting sequence\n",
    "print(\"The resulting sequence: \", final_sequence)\n",
    "\n",
    "# order the input dataset according to the detected sequence\n",
    "objects_list_ordered = objects_list_shuffled_scaled[final_sequence]\n",
    "\n",
    "# visualize the ordered dataset\n",
    "plt.figure(1, figsize=(10, 4))\n",
    "plt.subplot(1, 2, 1)\n",
    "plt.title(\"input dataset\")\n",
    "plt.pcolormesh(objects_list_shuffled_scaled)\n",
    "plt.colorbar()\n",
    "plt.xlabel(\"x\")\n",
    "plt.ylabel(\"original index\")\n",
    "\n",
    "plt.subplot(1, 2, 2)\n",
    "plt.title(\"ordered dataset\")\n",
    "plt.pcolormesh(objects_list_ordered)\n",
    "plt.colorbar()\n",
    "plt.xlabel(\"x\")\n",
    "plt.ylabel(\"original index\")\n",
    "\n",
    "plt.tight_layout()"
   ]
  },
  {
   "cell_type": "markdown",
   "metadata": {},
   "source": [
    "As expected, the largest scale (where there is a perfect sequence) is completely dilluted by all the irelevant scales I added to the run (10, 11, 12, 13, 14, 15, 16, 17, 18, 19). To illustrate this even more, let's print the intermediate axis ratios obtained for the different scales:"
   ]
  },
  {
   "cell_type": "code",
   "execution_count": 20,
   "metadata": {},
   "outputs": [
    {
     "name": "stdout",
     "output_type": "stream",
     "text": [
      "intermediate axis ratios for the different metrics and scales:\n",
      "metric=EMD, scale=1, axis ratio: 20.0\n",
      "metric=EMD, scale=2, axis ratio: 8.8\n",
      "metric=EMD, scale=10, axis ratio: 3.37\n",
      "metric=EMD, scale=11, axis ratio: 2.55\n",
      "metric=EMD, scale=12, axis ratio: 3.8699999999999997\n",
      "metric=EMD, scale=13, axis ratio: 3.8\n",
      "metric=EMD, scale=14, axis ratio: 5.86\n",
      "metric=EMD, scale=15, axis ratio: 4.76\n",
      "metric=EMD, scale=16, axis ratio: 5.319999999999999\n",
      "metric=EMD, scale=17, axis ratio: 3.16\n",
      "metric=EMD, scale=18, axis ratio: 2.4\n",
      "metric=EMD, scale=19, axis ratio: 2.08\n"
     ]
    }
   ],
   "source": [
    "print(\"intermediate axis ratios for the different metrics and scales:\")\n",
    "estimator_list, scale_list, axis_ratio_list = seq.return_axis_ratio_of_weighted_products_all_metrics_and_scales()\n",
    "for i in range(len(estimator_list)):\n",
    "    print(\"metric=%s, scale=%s, axis ratio: %s\" % (estimator_list[i], \n",
    "                                                   scale_list[i], \n",
    "                                                   axis_ratio_list[i]))"
   ]
  },
  {
   "cell_type": "markdown",
   "metadata": {},
   "source": [
    "To avoid this issue, we can set ```to_average_N_best_estimators=True``` in the ```seq.execute()``` function. "
   ]
  },
  {
   "cell_type": "code",
   "execution_count": 21,
   "metadata": {
    "scrolled": true
   },
   "outputs": [
    {
     "name": "stdout",
     "output_type": "stream",
     "text": [
      "calculating the distance matrices for estimator: EMD, scale: 1\n",
      "finished calculating this distance matrix list, it took: 0.027949094772338867 seconds\n",
      "calculating the distance matrices for estimator: EMD, scale: 2\n",
      "finished calculating this distance matrix list, it took: 0.03984999656677246 seconds\n",
      "calculating the distance matrices for estimator: EMD, scale: 10\n",
      "finished calculating this distance matrix list, it took: 0.15696191787719727 seconds\n",
      "calculating the distance matrices for estimator: EMD, scale: 11\n",
      "finished calculating this distance matrix list, it took: 0.18089890480041504 seconds\n",
      "calculating the distance matrices for estimator: EMD, scale: 12\n",
      "finished calculating this distance matrix list, it took: 0.1936047077178955 seconds\n",
      "calculating the distance matrices for estimator: EMD, scale: 13\n",
      "finished calculating this distance matrix list, it took: 0.18779516220092773 seconds\n",
      "calculating the distance matrices for estimator: EMD, scale: 14\n",
      "finished calculating this distance matrix list, it took: 0.23071789741516113 seconds\n",
      "calculating the distance matrices for estimator: EMD, scale: 15\n",
      "finished calculating this distance matrix list, it took: 0.31768226623535156 seconds\n",
      "calculating the distance matrices for estimator: EMD, scale: 16\n",
      "finished calculating this distance matrix list, it took: 0.2351701259613037 seconds\n",
      "calculating the distance matrices for estimator: EMD, scale: 17\n",
      "finished calculating this distance matrix list, it took: 0.2613792419433594 seconds\n",
      "calculating the distance matrices for estimator: EMD, scale: 18\n",
      "finished calculating this distance matrix list, it took: 0.3037760257720947 seconds\n",
      "calculating the distance matrices for estimator: EMD, scale: 19\n",
      "finished calculating this distance matrix list, it took: 0.27710700035095215 seconds\n",
      "dumped the distance matrix dictionaries to the file: sequencer_output_directory/distance_matrices.pkl\n",
      "strating to sequence the different scales and estimators\n",
      "in estimator: EMD, scale: 1\n",
      "in estimator: EMD, scale: 2\n",
      "in estimator: EMD, scale: 10\n",
      "in estimator: EMD, scale: 11\n",
      "in estimator: EMD, scale: 12\n",
      "in estimator: EMD, scale: 13\n",
      "in estimator: EMD, scale: 14\n",
      "in estimator: EMD, scale: 15\n",
      "in estimator: EMD, scale: 16\n",
      "in estimator: EMD, scale: 17\n",
      "in estimator: EMD, scale: 18\n",
      "in estimator: EMD, scale: 19\n",
      "dumped the axis ratios to the file: sequencer_output_directory/axis_ratios.pkl\n",
      "dumped the full weighted distance matrix to the file: sequencer_output_directory/weighted_distance_matrix.pkl\n",
      "dumped the sparse distance matrix to the file: <_io.BufferedWriter name='sequencer_output_directory/sparse_distance_matrix.pkl'>\n",
      "dumped the final sequences and axis ratio to the file: <_io.BufferedWriter name='sequencer_output_directory/final_products.pkl'>\n"
     ]
    }
   ],
   "source": [
    "estimator_list = ['EMD']\n",
    "scale_list = [[1, 2, 10, 11, 12, 13, 14, 15, 16, 17, 18, 19]]\n",
    "objects_list_shuffled_scaled = objects_list_shuffled + 1\n",
    "seq = sequencer.Sequencer(grid, objects_list_shuffled_scaled, estimator_list, scale_list=scale_list)\n",
    "\n",
    "output_path = \"sequencer_output_directory\"\n",
    "# set to_average_N_best_estimators=True, and number_of_best_estimators=2:\n",
    "final_axis_ratio, final_sequence = seq.execute(output_path, \n",
    "                                               to_average_N_best_estimators=True, \n",
    "                                              number_of_best_estimators=2)"
   ]
  },
  {
   "cell_type": "code",
   "execution_count": 22,
   "metadata": {},
   "outputs": [
    {
     "name": "stdout",
     "output_type": "stream",
     "text": [
      "The MST axis ratio:  20.0\n",
      "The resulting sequence:  [14 10  9 13  3 16  7 19  6 12  2  0  8  4  5  1 15 11 18 17]\n"
     ]
    },
    {
     "data": {
      "image/png": "[encoded data removed]",
      "text/plain": [
       "<Figure size 720x288 with 4 Axes>"
      ]
     },
     "metadata": {
      "needs_background": "light"
     },
     "output_type": "display_data"
    }
   ],
   "source": [
    "# print the final axis ratio\n",
    "print(\"The MST axis ratio: \", final_axis_ratio)\n",
    "\n",
    "# print the resulting sequence\n",
    "print(\"The resulting sequence: \", final_sequence)\n",
    "\n",
    "# order the input dataset according to the detected sequence\n",
    "objects_list_ordered = objects_list_shuffled_scaled[final_sequence]\n",
    "\n",
    "# visualize the ordered dataset\n",
    "plt.figure(1, figsize=(10, 4))\n",
    "plt.subplot(1, 2, 1)\n",
    "plt.title(\"input dataset\")\n",
    "plt.pcolormesh(objects_list_shuffled_scaled)\n",
    "plt.colorbar()\n",
    "plt.xlabel(\"x\")\n",
    "plt.ylabel(\"original index\")\n",
    "\n",
    "plt.subplot(1, 2, 2)\n",
    "plt.title(\"ordered dataset\")\n",
    "plt.pcolormesh(objects_list_ordered)\n",
    "plt.colorbar()\n",
    "plt.xlabel(\"x\")\n",
    "plt.ylabel(\"original index\")\n",
    "\n",
    "plt.tight_layout()"
   ]
  },
  {
   "cell_type": "markdown",
   "metadata": {},
   "source": [
    "As we can see, limiting the number of estimators only to the best two improved the result dramatically! <br><br>\n",
    "\n",
    "**Limiting the printing options of the Sequencer:** as you probably noticed, when applying the Sequencer to the data, the code prints a lot of stuff. Although I find it useful, especially when the distance matrices calculations take a lot of time, you might find it annoying. You can stop the printing by setting ```to_print_progress=False``` in the ```seq.execute()``` option:"
   ]
  },
  {
   "cell_type": "code",
   "execution_count": 23,
   "metadata": {},
   "outputs": [],
   "source": [
    "estimator_list = ['EMD']\n",
    "scale_list = [[1, 2]]\n",
    "objects_list_shuffled_scaled = objects_list_shuffled + 1\n",
    "seq = sequencer.Sequencer(grid, objects_list_shuffled_scaled, estimator_list, scale_list=scale_list)\n",
    "\n",
    "output_path = \"sequencer_output_directory\"\n",
    "# set to_print_progress=False\n",
    "final_axis_ratio, final_sequence = seq.execute(output_path, \n",
    "                                               to_print_progress=False)"
   ]
  },
  {
   "cell_type": "code",
   "execution_count": 24,
   "metadata": {},
   "outputs": [
    {
     "name": "stdout",
     "output_type": "stream",
     "text": [
      "The MST axis ratio:  20.0\n",
      "The resulting sequence:  [14 10  9 13  3 16  7 19  6 12  2  0  8  4  5  1 15 11 18 17]\n"
     ]
    }
   ],
   "source": [
    "# print the final axis ratio\n",
    "print(\"The MST axis ratio: \", final_axis_ratio)\n",
    "\n",
    "# print the resulting sequence\n",
    "print(\"The resulting sequence: \", final_sequence)"
   ]
  },
  {
   "cell_type": "markdown",
   "metadata": {},
   "source": [
    "## 4. Loading the distance matrix list from memory\n",
    "For large datasets, the most computationally-demanding part of the code is the calculation of the distance matrices per metric and scale. In some cases, we will find ourselves executing the same code with the same data several times. In such cases, we can avoid the re-calculation of the distance matrices, if they were already calculated and saved in a previous run. In the next several cells, I will show how to do this. <br>\n",
    "I will start by executing the Sequencer using many scales and estimators, where the default option ```to_save_distance_matrices=True``` of the function ```seq.execute()``` ensures that all the matrices were saved:"
   ]
  },
  {
   "cell_type": "code",
   "execution_count": 25,
   "metadata": {
    "scrolled": true
   },
   "outputs": [
    {
     "name": "stdout",
     "output_type": "stream",
     "text": [
      "calculating the distance matrices for estimator: EMD, scale: 1\n",
      "finished calculating this distance matrix list, it took: 0.0307772159576416 seconds\n",
      "calculating the distance matrices for estimator: EMD, scale: 2\n",
      "finished calculating this distance matrix list, it took: 0.042812347412109375 seconds\n",
      "calculating the distance matrices for estimator: EMD, scale: 3\n",
      "finished calculating this distance matrix list, it took: 0.05408596992492676 seconds\n",
      "calculating the distance matrices for estimator: EMD, scale: 4\n",
      "finished calculating this distance matrix list, it took: 0.060810089111328125 seconds\n",
      "calculating the distance matrices for estimator: EMD, scale: 5\n",
      "finished calculating this distance matrix list, it took: 0.08227276802062988 seconds\n",
      "calculating the distance matrices for estimator: EMD, scale: 6\n",
      "finished calculating this distance matrix list, it took: 0.09179210662841797 seconds\n",
      "calculating the distance matrices for estimator: EMD, scale: 7\n",
      "finished calculating this distance matrix list, it took: 0.1057581901550293 seconds\n",
      "calculating the distance matrices for estimator: EMD, scale: 8\n",
      "finished calculating this distance matrix list, it took: 0.14704298973083496 seconds\n",
      "calculating the distance matrices for estimator: EMD, scale: 9\n",
      "finished calculating this distance matrix list, it took: 0.13341712951660156 seconds\n",
      "calculating the distance matrices for estimator: EMD, scale: 10\n",
      "finished calculating this distance matrix list, it took: 0.16157817840576172 seconds\n",
      "calculating the distance matrices for estimator: energy, scale: 1\n",
      "finished calculating this distance matrix list, it took: 0.01600790023803711 seconds\n",
      "calculating the distance matrices for estimator: energy, scale: 2\n",
      "finished calculating this distance matrix list, it took: 0.032315969467163086 seconds\n",
      "calculating the distance matrices for estimator: energy, scale: 3\n",
      "finished calculating this distance matrix list, it took: 0.046009063720703125 seconds\n",
      "calculating the distance matrices for estimator: energy, scale: 4\n",
      "finished calculating this distance matrix list, it took: 0.11925101280212402 seconds\n",
      "calculating the distance matrices for estimator: energy, scale: 5\n",
      "finished calculating this distance matrix list, it took: 0.15781402587890625 seconds\n",
      "calculating the distance matrices for estimator: energy, scale: 6\n",
      "finished calculating this distance matrix list, it took: 0.1351921558380127 seconds\n",
      "calculating the distance matrices for estimator: energy, scale: 7\n",
      "finished calculating this distance matrix list, it took: 0.20633697509765625 seconds\n",
      "calculating the distance matrices for estimator: energy, scale: 8\n",
      "finished calculating this distance matrix list, it took: 0.18134188652038574 seconds\n",
      "calculating the distance matrices for estimator: energy, scale: 9\n",
      "finished calculating this distance matrix list, it took: 0.18246912956237793 seconds\n",
      "calculating the distance matrices for estimator: energy, scale: 10\n",
      "finished calculating this distance matrix list, it took: 0.3126640319824219 seconds\n",
      "calculating the distance matrices for estimator: L2, scale: 1\n",
      "finished calculating this distance matrix list, it took: 0.002218008041381836 seconds\n",
      "calculating the distance matrices for estimator: L2, scale: 2\n",
      "finished calculating this distance matrix list, it took: 0.003247976303100586 seconds\n",
      "calculating the distance matrices for estimator: L2, scale: 3\n",
      "finished calculating this distance matrix list, it took: 0.007935285568237305 seconds\n",
      "calculating the distance matrices for estimator: L2, scale: 4\n",
      "finished calculating this distance matrix list, it took: 0.00745391845703125 seconds\n",
      "calculating the distance matrices for estimator: L2, scale: 5\n",
      "finished calculating this distance matrix list, it took: 0.009253263473510742 seconds\n",
      "calculating the distance matrices for estimator: L2, scale: 6\n",
      "finished calculating this distance matrix list, it took: 0.008810997009277344 seconds\n",
      "calculating the distance matrices for estimator: L2, scale: 7\n",
      "finished calculating this distance matrix list, it took: 0.010124921798706055 seconds\n",
      "calculating the distance matrices for estimator: L2, scale: 8\n",
      "finished calculating this distance matrix list, it took: 0.011483907699584961 seconds\n",
      "calculating the distance matrices for estimator: L2, scale: 9\n",
      "finished calculating this distance matrix list, it took: 0.013863086700439453 seconds\n",
      "calculating the distance matrices for estimator: L2, scale: 10\n",
      "finished calculating this distance matrix list, it took: 0.014762163162231445 seconds\n",
      "dumped the distance matrix dictionaries to the file: sequencer_output_directory/distance_matrices.pkl\n",
      "strating to sequence the different scales and estimators\n",
      "in estimator: EMD, scale: 1\n",
      "in estimator: EMD, scale: 2\n",
      "in estimator: EMD, scale: 3\n",
      "in estimator: EMD, scale: 4\n",
      "in estimator: EMD, scale: 5\n",
      "in estimator: EMD, scale: 6\n",
      "in estimator: EMD, scale: 7\n",
      "in estimator: EMD, scale: 8\n",
      "in estimator: EMD, scale: 9\n",
      "in estimator: EMD, scale: 10\n",
      "in estimator: energy, scale: 1\n",
      "in estimator: energy, scale: 2\n",
      "in estimator: energy, scale: 3\n",
      "in estimator: energy, scale: 4\n",
      "in estimator: energy, scale: 5\n",
      "in estimator: energy, scale: 6\n",
      "in estimator: energy, scale: 7\n",
      "in estimator: energy, scale: 8\n",
      "in estimator: energy, scale: 9\n",
      "in estimator: energy, scale: 10\n",
      "in estimator: L2, scale: 1\n",
      "in estimator: L2, scale: 2\n",
      "in estimator: L2, scale: 3\n",
      "in estimator: L2, scale: 4\n",
      "in estimator: L2, scale: 5\n",
      "in estimator: L2, scale: 6\n",
      "in estimator: L2, scale: 7\n",
      "in estimator: L2, scale: 8\n",
      "in estimator: L2, scale: 9\n",
      "in estimator: L2, scale: 10\n",
      "dumped the axis ratios to the file: sequencer_output_directory/axis_ratios.pkl\n",
      "dumped the full weighted distance matrix to the file: sequencer_output_directory/weighted_distance_matrix.pkl\n",
      "dumped the sparse distance matrix to the file: <_io.BufferedWriter name='sequencer_output_directory/sparse_distance_matrix.pkl'>\n",
      "dumped the final sequences and axis ratio to the file: <_io.BufferedWriter name='sequencer_output_directory/final_products.pkl'>\n"
     ]
    }
   ],
   "source": [
    "estimator_list = ['EMD', 'energy', 'L2']\n",
    "scale_list = [[1, 2, 3, 4, 5, 6, 7, 8, 9, 10], \n",
    "              [1, 2, 3, 4, 5, 6, 7, 8, 9, 10],\n",
    "              [1, 2, 3, 4, 5, 6, 7, 8, 9, 10]]\n",
    "objects_list_shuffled_scaled = objects_list_shuffled + 1\n",
    "seq = sequencer.Sequencer(grid, objects_list_shuffled_scaled, estimator_list, scale_list=scale_list)\n",
    "\n",
    "output_path = \"sequencer_output_directory\"\n",
    "# set to_print_progress=False\n",
    "final_axis_ratio, final_sequence = seq.execute(output_path)"
   ]
  },
  {
   "cell_type": "code",
   "execution_count": 26,
   "metadata": {},
   "outputs": [
    {
     "name": "stdout",
     "output_type": "stream",
     "text": [
      "axis_ratios.pkl               log_file.txt\r\n",
      "distance_matrices.pkl         sparse_distance_matrix.pkl\r\n",
      "final_products.pkl            weighted_distance_matrix.pkl\r\n"
     ]
    }
   ],
   "source": [
    "%ls sequencer_output_directory/"
   ]
  },
  {
   "cell_type": "markdown",
   "metadata": {},
   "source": [
    "The last command shows what kind of files are saved during the run of the Sequencer: <br>\n",
    "1. The file ```log_file.txt``` is a log file that contains all the things that were printed by the Sequencer. <br>\n",
    "2. The file ```axis_ratios.pkl``` is a python pickle file of a dictionary that contains all the intermediate axis ratios and sequences obtained during the computation. <br>\n",
    "3. The file ```final_products.pkl``` is a python pickle file containing the final axis ratio and the final detected sequence. <br>\n",
    "4. The file ```distance_matrices.pkl``` is a python pickle file of a dictionary that contains all the distance matrices estimated during the run. This is exactly the file that we need in order to load the matrices into memory. <br>\n",
    "5. The file ```weighted_distance_matrix.pkl``` is a dicitionary containing all the weighted distance matrices per scale and estimator (these are the result of the weighted average over the different chunks for a given scale). See the paper for additional details. <br>\n",
    "6. The file ```sparse_distance_matrix.pkl``` is the final, sparse, distance matrix from which the final sequence is extracted. This matrix is the inverse of the proximity matrix, into which all the intermediate sequences were populated. See the paper for additional details. <br><br>\n",
    "\n",
    "Say that we want to execute the Sequencer again, using the same scales and metrics, but we do not want to recompute all the matrices. To avoid recomputing the matrices, we will change the following parameters:<br>\n",
    "1. ```to_calculate_distance_matrices=True``` -> ```to_calculate_distance_matrices=False```\n",
    "2. ```to_save_distance_matrices=True``` -> ```to_save_distance_matrices=False```\n",
    "3. ```distance_matrices_inpath=None``` -> ```distance_matrices_inpath=\"sequencer_output_directory/distance_matrices.pkl\"```"
   ]
  },
  {
   "cell_type": "code",
   "execution_count": 27,
   "metadata": {},
   "outputs": [
    {
     "name": "stdout",
     "output_type": "stream",
     "text": [
      "strating to sequence the different scales and estimators\n",
      "in estimator: EMD, scale: 1\n",
      "in estimator: EMD, scale: 2\n",
      "in estimator: EMD, scale: 3\n",
      "in estimator: EMD, scale: 4\n",
      "in estimator: EMD, scale: 5\n",
      "in estimator: EMD, scale: 6\n",
      "in estimator: EMD, scale: 7\n",
      "in estimator: EMD, scale: 8\n",
      "in estimator: EMD, scale: 9\n",
      "in estimator: EMD, scale: 10\n",
      "in estimator: energy, scale: 1\n",
      "in estimator: energy, scale: 2\n",
      "in estimator: energy, scale: 3\n",
      "in estimator: energy, scale: 4\n",
      "in estimator: energy, scale: 5\n",
      "in estimator: energy, scale: 6\n",
      "in estimator: energy, scale: 7\n",
      "in estimator: energy, scale: 8\n",
      "in estimator: energy, scale: 9\n",
      "in estimator: energy, scale: 10\n",
      "in estimator: L2, scale: 1\n",
      "in estimator: L2, scale: 2\n",
      "in estimator: L2, scale: 3\n",
      "in estimator: L2, scale: 4\n",
      "in estimator: L2, scale: 5\n",
      "in estimator: L2, scale: 6\n",
      "in estimator: L2, scale: 7\n",
      "in estimator: L2, scale: 8\n",
      "in estimator: L2, scale: 9\n",
      "in estimator: L2, scale: 10\n",
      "dumped the axis ratios to the file: sequencer_output_directory/axis_ratios.pkl\n",
      "dumped the full weighted distance matrix to the file: sequencer_output_directory/weighted_distance_matrix.pkl\n",
      "dumped the sparse distance matrix to the file: <_io.BufferedWriter name='sequencer_output_directory/sparse_distance_matrix.pkl'>\n",
      "dumped the final sequences and axis ratio to the file: <_io.BufferedWriter name='sequencer_output_directory/final_products.pkl'>\n"
     ]
    }
   ],
   "source": [
    "estimator_list = ['EMD', 'energy', 'L2']\n",
    "scale_list = [[1, 2, 3, 4, 5, 6, 7, 8, 9, 10], \n",
    "              [1, 2, 3, 4, 5, 6, 7, 8, 9, 10],\n",
    "              [1, 2, 3, 4, 5, 6, 7, 8, 9, 10]]\n",
    "objects_list_shuffled_scaled = objects_list_shuffled + 1\n",
    "seq = sequencer.Sequencer(grid, objects_list_shuffled_scaled, estimator_list, scale_list=scale_list)\n",
    "\n",
    "output_path = \"sequencer_output_directory\"\n",
    "# set to_print_progress=False\n",
    "final_axis_ratio, final_sequence = seq.execute(output_path, \n",
    "                                               to_calculate_distance_matrices=False,\n",
    "                                               to_save_distance_matrices=False,\n",
    "                                               distance_matrices_inpath=\"sequencer_output_directory/distance_matrices.pkl\")"
   ]
  },
  {
   "cell_type": "markdown",
   "metadata": {},
   "source": [
    "We can see from the prints that the Sequencer did not calculate the distance matrices, but instead loaded them and started from the sequencing of the different scales and estimators. <br>\n",
    "\n",
    "The option of loading the distance matrices into memory can also be used when we're interested in a subset of all the metrics and scales that we have computed. For example, in the next cell, I want to sequence only using EMD+scale=1, energy+scale=2, and L2+scale=10:"
   ]
  },
  {
   "cell_type": "code",
   "execution_count": 28,
   "metadata": {},
   "outputs": [
    {
     "name": "stdout",
     "output_type": "stream",
     "text": [
      "strating to sequence the different scales and estimators\n",
      "in estimator: EMD, scale: 1\n",
      "in estimator: energy, scale: 2\n",
      "in estimator: L2, scale: 10\n",
      "dumped the axis ratios to the file: sequencer_output_directory/axis_ratios.pkl\n",
      "dumped the full weighted distance matrix to the file: sequencer_output_directory/weighted_distance_matrix.pkl\n",
      "dumped the sparse distance matrix to the file: <_io.BufferedWriter name='sequencer_output_directory/sparse_distance_matrix.pkl'>\n",
      "dumped the final sequences and axis ratio to the file: <_io.BufferedWriter name='sequencer_output_directory/final_products.pkl'>\n"
     ]
    }
   ],
   "source": [
    "estimator_list = ['EMD', 'energy', 'L2']\n",
    "scale_list = [[1], [2], [10]]\n",
    "objects_list_shuffled_scaled = objects_list_shuffled + 1\n",
    "seq = sequencer.Sequencer(grid, objects_list_shuffled_scaled, estimator_list, scale_list=scale_list)\n",
    "\n",
    "output_path = \"sequencer_output_directory\"\n",
    "# set to_print_progress=False\n",
    "final_axis_ratio, final_sequence = seq.execute(output_path, \n",
    "                                               to_calculate_distance_matrices=False,\n",
    "                                               to_save_distance_matrices=False,\n",
    "                                               distance_matrices_inpath=\"sequencer_output_directory/distance_matrices.pkl\")"
   ]
  },
  {
   "cell_type": "markdown",
   "metadata": {},
   "source": [
    "When using a subset of metrics and scales like we just did, we need to be careful not to set ```to_save_distance_matrices=True```. If we do set ```to_save_distance_matrices=True```, then the Sequencer will save a new list of matrices that corresponds only to the three combinations: EMD+scale=1, energy+scale=2, and L2+scale=10, and we will loose all the rest of the matrices!"
   ]
  },
  {
   "cell_type": "code",
   "execution_count": null,
   "metadata": {},
   "outputs": [],
   "source": []
  }
 ],
 "metadata": {
  "kernelspec": {
   "display_name": "Python 3",
   "language": "python",
   "name": "python3"
  },
  "language_info": {
   "codemirror_mode": {
    "name": "ipython",
    "version": 3
   },
   "file_extension": ".py",
   "mimetype": "text/x-python",
   "name": "python",
   "nbconvert_exporter": "python",
   "pygments_lexer": "ipython3",
   "version": "3.7.1"
  }
 },
 "nbformat": 4,
 "nbformat_minor": 4
}
