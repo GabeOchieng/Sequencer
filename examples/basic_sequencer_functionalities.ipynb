{
 "cells": [
  {
   "cell_type": "markdown",
   "metadata": {},
   "source": [
    "# Exploring the basic functionalities of the Sequencer\n",
    "This notebook will contain examples that show the basic functionalities of the Sequencer. In the first part of the notebook I simulate a very simple dataset with a clear one-dimensional sequence. I will then show several examples: <br>\n",
    "1. Basic Sequencer run: application of the Sequencer to the dataset with default values. <br>\n",
    "\n",
    "2. Changing the distance metric and scales to non-default values. <br>"
   ]
  },
  {
   "cell_type": "code",
   "execution_count": 24,
   "metadata": {},
   "outputs": [],
   "source": [
    "# imports\n",
    "%matplotlib inline\n",
    "\n",
    "import sys\n",
    "sys.path.append(\"../code/\")\n",
    "import importlib\n",
    "\n",
    "import sequencer\n",
    "importlib.reload(sequencer)\n",
    "\n",
    "import numpy\n",
    "import matplotlib.pyplot as plt"
   ]
  },
  {
   "cell_type": "markdown",
   "metadata": {},
   "source": [
    "## Simulate a very simple dataset\n",
    "I will start by simulating a very simple dataset that consists of 1D objects with a single pulse. The dataset will contain 20 objects, each of length 20. Each object will be composed of zero continuum and a single pulse with a varying location. The locations of the pulses in the different objects will form a clear one-dimensional sequence. <br>\n",
    "The final dataset will be a shuffled version of the simulated dataset."
   ]
  },
  {
   "cell_type": "code",
   "execution_count": 7,
   "metadata": {},
   "outputs": [],
   "source": [
    "# construct the grid and the objects_list\n",
    "\n",
    "grid = numpy.arange(20)\n",
    "objects_list_simulated = []\n",
    "objects_true_indices = numpy.arange(20) # the ordered indices\n",
    "\n",
    "for i in range(20):\n",
    "    y = numpy.zeros(20)\n",
    "    y[i] = 1\n",
    "    objects_list_simulated.append(y)\n",
    "objects_list_simulated = numpy.array(objects_list_simulated)\n",
    "    \n",
    "numpy.random.shuffle(objects_true_indices)\n",
    "objects_list_shuffled = objects_list_simulated[objects_true_indices, :]"
   ]
  },
  {
   "cell_type": "code",
   "execution_count": 9,
   "metadata": {},
   "outputs": [
    {
     "data": {
      "image/png": "[encoded data removed]",
      "text/plain": [
       "<Figure size 360x288 with 2 Axes>"
      ]
     },
     "metadata": {
      "needs_background": "light"
     },
     "output_type": "display_data"
    }
   ],
   "source": [
    "# visualize the input dataset \n",
    "\n",
    "plt.figure(1, figsize=(5, 4))\n",
    "plt.title(\"input dataset\")\n",
    "plt.pcolormesh(objects_list_shuffled)\n",
    "plt.colorbar()\n",
    "plt.xlabel(\"x\")\n",
    "plt.ylabel(\"original index\")\n",
    "\n",
    "plt.tight_layout()"
   ]
  },
  {
   "cell_type": "markdown",
   "metadata": {},
   "source": [
    "## 1. Basic Sequencer run\n",
    "In this part of the notebook I will apply the Sequencer to the simple simulated dataset with default parameters. I will show how to analyze and visualize the different outputs."
   ]
  },
  {
   "cell_type": "code",
   "execution_count": 27,
   "metadata": {},
   "outputs": [
    {
     "name": "stdout",
     "output_type": "stream",
     "text": [
      "calculating the distance matrices for estimator: EMD, scale: 1\n",
      "finished calculating this distance matrix list, it took: 0.037979841232299805 seconds\n",
      "calculating the distance matrices for estimator: energy, scale: 1\n",
      "finished calculating this distance matrix list, it took: 0.02695918083190918 seconds\n",
      "calculating the distance matrices for estimator: L2, scale: 1\n",
      "finished calculating this distance matrix list, it took: 0.0018310546875 seconds\n",
      "dumped the distance matrix dictionaries to the file: sequencer_output_directory/distance_matrices.pkl\n",
      "strating to sequence the different scales and estimators\n",
      "in estimator: EMD, scale: 1\n",
      "in estimator: energy, scale: 1\n",
      "in estimator: L2, scale: 1\n",
      "dumped the axis ratios to the file: sequencer_output_directory/axis_ratios.pkl\n",
      "dumped the full weighted distance matrix to the file: sequencer_output_directory/weighted_distance_matrix.pkl\n",
      "dumped the sparse distance matrix to the file: <_io.BufferedWriter name='sequencer_output_directory/sparse_distance_matrix.pkl'>\n",
      "dumped the final sequences and axis ratio to the file: <_io.BufferedWriter name='sequencer_output_directory/final_products.pkl'>\n"
     ]
    },
    {
     "name": "stderr",
     "output_type": "stream",
     "text": [
      "../code/sequencer.py:938: RuntimeWarning: divide by zero encountered in true_divide\n",
      "  \"\"\"Function converts the given distance matrix into a proximity matrix and returns it.\n"
     ]
    }
   ],
   "source": [
    "# define the list of distance metrics to consider.\n",
    "# I don't include the KL-Divergence because the dataset contains zero values\n",
    "estimator_list = ['EMD', 'energy', 'L2']\n",
    "\n",
    "# define the sequencer object with default parameters\n",
    "seq = sequencer.Sequencer(grid, objects_list_shuffled, estimator_list)\n",
    "\n",
    "# to execute the sequencer, we first need to define the output directory to which the different \n",
    "# outputs will be saved\n",
    "output_path = \"sequencer_output_directory\"\n",
    "final_axis_ratio, final_sequence = seq.execute(output_path)"
   ]
  },
  {
   "cell_type": "markdown",
   "metadata": {},
   "source": [
    "**Result:** The Sequencer was successfully applied to the dataset. I will now print the resulting axis ratio and sequence. The detected sequence vector represents the order in which the objects in the dataset should be ordered. <br>\n",
    "After printing the axis raito and resulting sequence, I will reorder the objects in the dataset according to the detected sequence, and will plot the ordered dataset."
   ]
  },
  {
   "cell_type": "code",
   "execution_count": 28,
   "metadata": {},
   "outputs": [
    {
     "name": "stdout",
     "output_type": "stream",
     "text": [
      "The MST axis ratio:  20.0\n",
      "The resulting sequence:  [11  4 15  7  9 10  3  0 13 16  1 12  2  6  5 19  8 14 17 18]\n"
     ]
    },
    {
     "data": {
      "image/png": "[encoded data removed]",
      "text/plain": [
       "<Figure size 720x288 with 4 Axes>"
      ]
     },
     "metadata": {
      "needs_background": "light"
     },
     "output_type": "display_data"
    }
   ],
   "source": [
    "# print the final axis ratio\n",
    "print(\"The MST axis ratio: \", final_axis_ratio)\n",
    "\n",
    "# print the resulting sequence\n",
    "print(\"The resulting sequence: \", final_sequence)\n",
    "\n",
    "# order the input dataset according to the detected sequence\n",
    "objects_list_ordered = objects_list_shuffled[final_sequence]\n",
    "\n",
    "# visualize the ordered dataset\n",
    "plt.figure(1, figsize=(10, 4))\n",
    "plt.subplot(1, 2, 1)\n",
    "plt.title(\"input dataset\")\n",
    "plt.pcolormesh(objects_list_shuffled)\n",
    "plt.colorbar()\n",
    "plt.xlabel(\"x\")\n",
    "plt.ylabel(\"original index\")\n",
    "\n",
    "plt.subplot(1, 2, 2)\n",
    "plt.title(\"ordered dataset\")\n",
    "plt.pcolormesh(objects_list_ordered)\n",
    "plt.colorbar()\n",
    "plt.xlabel(\"x\")\n",
    "plt.ylabel(\"original index\")\n",
    "\n",
    "plt.tight_layout()"
   ]
  },
  {
   "cell_type": "code",
   "execution_count": null,
   "metadata": {},
   "outputs": [],
   "source": []
  }
 ],
 "metadata": {
  "kernelspec": {
   "display_name": "Python 3",
   "language": "python",
   "name": "python3"
  },
  "language_info": {
   "codemirror_mode": {
    "name": "ipython",
    "version": 3
   },
   "file_extension": ".py",
   "mimetype": "text/x-python",
   "name": "python",
   "nbconvert_exporter": "python",
   "pygments_lexer": "ipython3",
   "version": "3.7.1"
  }
 },
 "nbformat": 4,
 "nbformat_minor": 4
}
